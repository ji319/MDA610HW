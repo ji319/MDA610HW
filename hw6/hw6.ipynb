{
 "cells": [
  {
   "cell_type": "code",
   "execution_count": 30,
   "metadata": {},
   "outputs": [
    {
     "data": {
      "text/plain": [
       "\"character frequencies in string:{'f': 2, 'i': 1, 't': 1, 'e': 2, 'n': 1}\""
      ]
     },
     "execution_count": 30,
     "metadata": {},
     "output_type": "execute_result"
    }
   ],
   "source": [
    "# question 1#\n",
    "\n",
    "count = {}\n",
    "def freq(string):\n",
    "    for i in string:\n",
    "        if i in count:\n",
    "            count[i] += 1\n",
    "        else:\n",
    "            count[i] = 1\n",
    "    return ( \"character frequencies in string:\"+ str(count))\n",
    "\n",
    "freq(\"fifteen\")"
   ]
  },
  {
   "cell_type": "code",
   "execution_count": 19,
   "metadata": {},
   "outputs": [
    {
     "name": "stdout",
     "output_type": "stream",
     "text": [
      "[ 1  6  8 14]\n"
     ]
    }
   ],
   "source": [
    "#question 3#\n",
    "import numpy as np\n",
    "a= [1,5,2,6]\n",
    "print(np.cumsum(a))"
   ]
  },
  {
   "cell_type": "code",
   "execution_count": 20,
   "metadata": {},
   "outputs": [
    {
     "name": "stdout",
     "output_type": "stream",
     "text": [
      "the dot product of A and B is 22\n"
     ]
    }
   ],
   "source": [
    "# question 4#\n",
    "\n",
    "A = [1,5,2,6]\n",
    "B = [0,2,3,1]\n",
    "\n",
    "dot_product = np.array(A) @ np.array(B)\n",
    "print (\"the dot product of A and B is\", dot_product)"
   ]
  },
  {
   "cell_type": "code",
   "execution_count": 16,
   "metadata": {},
   "outputs": [
    {
     "name": "stdout",
     "output_type": "stream",
     "text": [
      "(5, 35)\n"
     ]
    }
   ],
   "source": [
    "# question 2#\n",
    "\n",
    "A = [10, 20, 20, 35, 5, 29, 5]\n",
    "min_and_max= min(A), max(A)\n",
    "print(min_and_max)"
   ]
  }
 ],
 "metadata": {
  "kernelspec": {
   "display_name": "Python 3",
   "language": "python",
   "name": "python3"
  },
  "language_info": {
   "codemirror_mode": {
    "name": "ipython",
    "version": 3
   },
   "file_extension": ".py",
   "mimetype": "text/x-python",
   "name": "python",
   "nbconvert_exporter": "python",
   "pygments_lexer": "ipython3",
   "version": "3.7.3"
  }
 },
 "nbformat": 4,
 "nbformat_minor": 2
}
